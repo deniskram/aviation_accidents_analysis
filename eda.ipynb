{
 "cells": [
  {
   "cell_type": "code",
   "execution_count": 259,
   "metadata": {},
   "outputs": [],
   "source": [
    "import pandas as pd\n",
    "import numpy as np\n",
    "import matplotlib.pyplot as plt\n",
    "import seaborn as sns\n",
    "import scipy.stats as stats\n",
    "\n",
    "sns.set_theme()"
   ]
  },
  {
   "cell_type": "markdown",
   "metadata": {},
   "source": [
    "# Load dataset"
   ]
  },
  {
   "cell_type": "code",
   "execution_count": 307,
   "metadata": {},
   "outputs": [
    {
     "name": "stderr",
     "output_type": "stream",
     "text": [
      "/var/folders/ty/9fdsc7tx2z99ntf3cyf1kjxh0000gn/T/ipykernel_33859/2738109947.py:1: DtypeWarning: Columns (6,7,28) have mixed types. Specify dtype option on import or set low_memory=False.\n",
      "  av_raw = pd.read_csv('archive/AviationData.csv',encoding='latin-1')\n"
     ]
    }
   ],
   "source": [
    "av_raw = pd.read_csv('archive/AviationData.csv',encoding='latin-1')"
   ]
  },
  {
   "cell_type": "code",
   "execution_count": 260,
   "metadata": {},
   "outputs": [
    {
     "name": "stdout",
     "output_type": "stream",
     "text": [
      "(87282, 31)\n"
     ]
    },
    {
     "data": {
      "text/html": [
       "<div>\n",
       "<style scoped>\n",
       "    .dataframe tbody tr th:only-of-type {\n",
       "        vertical-align: middle;\n",
       "    }\n",
       "\n",
       "    .dataframe tbody tr th {\n",
       "        vertical-align: top;\n",
       "    }\n",
       "\n",
       "    .dataframe thead th {\n",
       "        text-align: right;\n",
       "    }\n",
       "</style>\n",
       "<table border=\"1\" class=\"dataframe\">\n",
       "  <thead>\n",
       "    <tr style=\"text-align: right;\">\n",
       "      <th></th>\n",
       "      <th>Event.Id</th>\n",
       "      <th>Investigation.Type</th>\n",
       "      <th>Accident.Number</th>\n",
       "      <th>Event.Date</th>\n",
       "      <th>Location</th>\n",
       "      <th>Country</th>\n",
       "      <th>Latitude</th>\n",
       "      <th>Longitude</th>\n",
       "      <th>Airport.Code</th>\n",
       "      <th>Airport.Name</th>\n",
       "      <th>Injury.Severity</th>\n",
       "      <th>Aircraft.damage</th>\n",
       "      <th>Aircraft.Category</th>\n",
       "      <th>Registration.Number</th>\n",
       "      <th>Make</th>\n",
       "      <th>Model</th>\n",
       "      <th>Amateur.Built</th>\n",
       "      <th>Number.of.Engines</th>\n",
       "      <th>Engine.Type</th>\n",
       "      <th>FAR.Description</th>\n",
       "      <th>Schedule</th>\n",
       "      <th>Purpose.of.flight</th>\n",
       "      <th>Air.carrier</th>\n",
       "      <th>Total.Fatal.Injuries</th>\n",
       "      <th>Total.Serious.Injuries</th>\n",
       "      <th>Total.Minor.Injuries</th>\n",
       "      <th>Total.Uninjured</th>\n",
       "      <th>Weather.Condition</th>\n",
       "      <th>Broad.phase.of.flight</th>\n",
       "      <th>Report.Status</th>\n",
       "      <th>Publication.Date</th>\n",
       "    </tr>\n",
       "  </thead>\n",
       "  <tbody>\n",
       "    <tr>\n",
       "      <th>0</th>\n",
       "      <td>20001218X45444</td>\n",
       "      <td>Accident</td>\n",
       "      <td>SEA87LA080</td>\n",
       "      <td>1948-10-24</td>\n",
       "      <td>MOOSE CREEK, ID</td>\n",
       "      <td>United States</td>\n",
       "      <td>NaN</td>\n",
       "      <td>NaN</td>\n",
       "      <td>NaN</td>\n",
       "      <td>NaN</td>\n",
       "      <td>Fatal(2)</td>\n",
       "      <td>Destroyed</td>\n",
       "      <td>NaN</td>\n",
       "      <td>NC6404</td>\n",
       "      <td>Stinson</td>\n",
       "      <td>108-3</td>\n",
       "      <td>No</td>\n",
       "      <td>1.0</td>\n",
       "      <td>Reciprocating</td>\n",
       "      <td>NaN</td>\n",
       "      <td>NaN</td>\n",
       "      <td>Personal</td>\n",
       "      <td>NaN</td>\n",
       "      <td>2.0</td>\n",
       "      <td>0.0</td>\n",
       "      <td>0.0</td>\n",
       "      <td>0.0</td>\n",
       "      <td>UNK</td>\n",
       "      <td>Cruise</td>\n",
       "      <td>Probable Cause</td>\n",
       "      <td>NaN</td>\n",
       "    </tr>\n",
       "    <tr>\n",
       "      <th>1</th>\n",
       "      <td>20001218X45447</td>\n",
       "      <td>Accident</td>\n",
       "      <td>LAX94LA336</td>\n",
       "      <td>1962-07-19</td>\n",
       "      <td>BRIDGEPORT, CA</td>\n",
       "      <td>United States</td>\n",
       "      <td>NaN</td>\n",
       "      <td>NaN</td>\n",
       "      <td>NaN</td>\n",
       "      <td>NaN</td>\n",
       "      <td>Fatal(4)</td>\n",
       "      <td>Destroyed</td>\n",
       "      <td>NaN</td>\n",
       "      <td>N5069P</td>\n",
       "      <td>Piper</td>\n",
       "      <td>PA24-180</td>\n",
       "      <td>No</td>\n",
       "      <td>1.0</td>\n",
       "      <td>Reciprocating</td>\n",
       "      <td>NaN</td>\n",
       "      <td>NaN</td>\n",
       "      <td>Personal</td>\n",
       "      <td>NaN</td>\n",
       "      <td>4.0</td>\n",
       "      <td>0.0</td>\n",
       "      <td>0.0</td>\n",
       "      <td>0.0</td>\n",
       "      <td>UNK</td>\n",
       "      <td>Unknown</td>\n",
       "      <td>Probable Cause</td>\n",
       "      <td>19-09-1996</td>\n",
       "    </tr>\n",
       "    <tr>\n",
       "      <th>2</th>\n",
       "      <td>20061025X01555</td>\n",
       "      <td>Accident</td>\n",
       "      <td>NYC07LA005</td>\n",
       "      <td>1974-08-30</td>\n",
       "      <td>Saltville, VA</td>\n",
       "      <td>United States</td>\n",
       "      <td>36.922223</td>\n",
       "      <td>-81.878056</td>\n",
       "      <td>NaN</td>\n",
       "      <td>NaN</td>\n",
       "      <td>Fatal(3)</td>\n",
       "      <td>Destroyed</td>\n",
       "      <td>NaN</td>\n",
       "      <td>N5142R</td>\n",
       "      <td>Cessna</td>\n",
       "      <td>172M</td>\n",
       "      <td>No</td>\n",
       "      <td>1.0</td>\n",
       "      <td>Reciprocating</td>\n",
       "      <td>NaN</td>\n",
       "      <td>NaN</td>\n",
       "      <td>Personal</td>\n",
       "      <td>NaN</td>\n",
       "      <td>3.0</td>\n",
       "      <td>NaN</td>\n",
       "      <td>NaN</td>\n",
       "      <td>NaN</td>\n",
       "      <td>IMC</td>\n",
       "      <td>Cruise</td>\n",
       "      <td>Probable Cause</td>\n",
       "      <td>26-02-2007</td>\n",
       "    </tr>\n",
       "    <tr>\n",
       "      <th>3</th>\n",
       "      <td>20001218X45448</td>\n",
       "      <td>Accident</td>\n",
       "      <td>LAX96LA321</td>\n",
       "      <td>1977-06-19</td>\n",
       "      <td>EUREKA, CA</td>\n",
       "      <td>United States</td>\n",
       "      <td>NaN</td>\n",
       "      <td>NaN</td>\n",
       "      <td>NaN</td>\n",
       "      <td>NaN</td>\n",
       "      <td>Fatal(2)</td>\n",
       "      <td>Destroyed</td>\n",
       "      <td>NaN</td>\n",
       "      <td>N1168J</td>\n",
       "      <td>Rockwell</td>\n",
       "      <td>112</td>\n",
       "      <td>No</td>\n",
       "      <td>1.0</td>\n",
       "      <td>Reciprocating</td>\n",
       "      <td>NaN</td>\n",
       "      <td>NaN</td>\n",
       "      <td>Personal</td>\n",
       "      <td>NaN</td>\n",
       "      <td>2.0</td>\n",
       "      <td>0.0</td>\n",
       "      <td>0.0</td>\n",
       "      <td>0.0</td>\n",
       "      <td>IMC</td>\n",
       "      <td>Cruise</td>\n",
       "      <td>Probable Cause</td>\n",
       "      <td>12-09-2000</td>\n",
       "    </tr>\n",
       "    <tr>\n",
       "      <th>4</th>\n",
       "      <td>20041105X01764</td>\n",
       "      <td>Accident</td>\n",
       "      <td>CHI79FA064</td>\n",
       "      <td>1979-08-02</td>\n",
       "      <td>Canton, OH</td>\n",
       "      <td>United States</td>\n",
       "      <td>NaN</td>\n",
       "      <td>NaN</td>\n",
       "      <td>NaN</td>\n",
       "      <td>NaN</td>\n",
       "      <td>Fatal(1)</td>\n",
       "      <td>Destroyed</td>\n",
       "      <td>NaN</td>\n",
       "      <td>N15NY</td>\n",
       "      <td>Cessna</td>\n",
       "      <td>501</td>\n",
       "      <td>No</td>\n",
       "      <td>NaN</td>\n",
       "      <td>NaN</td>\n",
       "      <td>NaN</td>\n",
       "      <td>NaN</td>\n",
       "      <td>Personal</td>\n",
       "      <td>NaN</td>\n",
       "      <td>1.0</td>\n",
       "      <td>2.0</td>\n",
       "      <td>NaN</td>\n",
       "      <td>0.0</td>\n",
       "      <td>VMC</td>\n",
       "      <td>Approach</td>\n",
       "      <td>Probable Cause</td>\n",
       "      <td>16-04-1980</td>\n",
       "    </tr>\n",
       "  </tbody>\n",
       "</table>\n",
       "</div>"
      ],
      "text/plain": [
       "         Event.Id Investigation.Type Accident.Number  Event.Date  \\\n",
       "0  20001218X45444           Accident      SEA87LA080  1948-10-24   \n",
       "1  20001218X45447           Accident      LAX94LA336  1962-07-19   \n",
       "2  20061025X01555           Accident      NYC07LA005  1974-08-30   \n",
       "3  20001218X45448           Accident      LAX96LA321  1977-06-19   \n",
       "4  20041105X01764           Accident      CHI79FA064  1979-08-02   \n",
       "\n",
       "          Location        Country   Latitude  Longitude Airport.Code  \\\n",
       "0  MOOSE CREEK, ID  United States        NaN        NaN          NaN   \n",
       "1   BRIDGEPORT, CA  United States        NaN        NaN          NaN   \n",
       "2    Saltville, VA  United States  36.922223 -81.878056          NaN   \n",
       "3       EUREKA, CA  United States        NaN        NaN          NaN   \n",
       "4       Canton, OH  United States        NaN        NaN          NaN   \n",
       "\n",
       "  Airport.Name Injury.Severity Aircraft.damage Aircraft.Category  \\\n",
       "0          NaN        Fatal(2)       Destroyed               NaN   \n",
       "1          NaN        Fatal(4)       Destroyed               NaN   \n",
       "2          NaN        Fatal(3)       Destroyed               NaN   \n",
       "3          NaN        Fatal(2)       Destroyed               NaN   \n",
       "4          NaN        Fatal(1)       Destroyed               NaN   \n",
       "\n",
       "  Registration.Number      Make     Model Amateur.Built  Number.of.Engines  \\\n",
       "0              NC6404   Stinson     108-3            No                1.0   \n",
       "1              N5069P     Piper  PA24-180            No                1.0   \n",
       "2              N5142R    Cessna      172M            No                1.0   \n",
       "3              N1168J  Rockwell       112            No                1.0   \n",
       "4               N15NY    Cessna       501            No                NaN   \n",
       "\n",
       "     Engine.Type FAR.Description Schedule Purpose.of.flight Air.carrier  \\\n",
       "0  Reciprocating             NaN      NaN          Personal         NaN   \n",
       "1  Reciprocating             NaN      NaN          Personal         NaN   \n",
       "2  Reciprocating             NaN      NaN          Personal         NaN   \n",
       "3  Reciprocating             NaN      NaN          Personal         NaN   \n",
       "4            NaN             NaN      NaN          Personal         NaN   \n",
       "\n",
       "   Total.Fatal.Injuries  Total.Serious.Injuries  Total.Minor.Injuries  \\\n",
       "0                   2.0                     0.0                   0.0   \n",
       "1                   4.0                     0.0                   0.0   \n",
       "2                   3.0                     NaN                   NaN   \n",
       "3                   2.0                     0.0                   0.0   \n",
       "4                   1.0                     2.0                   NaN   \n",
       "\n",
       "   Total.Uninjured Weather.Condition Broad.phase.of.flight   Report.Status  \\\n",
       "0              0.0               UNK                Cruise  Probable Cause   \n",
       "1              0.0               UNK               Unknown  Probable Cause   \n",
       "2              NaN               IMC                Cruise  Probable Cause   \n",
       "3              0.0               IMC                Cruise  Probable Cause   \n",
       "4              0.0               VMC              Approach  Probable Cause   \n",
       "\n",
       "  Publication.Date  \n",
       "0              NaN  \n",
       "1       19-09-1996  \n",
       "2       26-02-2007  \n",
       "3       12-09-2000  \n",
       "4       16-04-1980  "
      ]
     },
     "execution_count": 260,
     "metadata": {},
     "output_type": "execute_result"
    }
   ],
   "source": [
    "pd.set_option('display.max_columns', None)\n",
    "print(av_raw.shape)\n",
    "av_raw.head()"
   ]
  },
  {
   "cell_type": "code",
   "execution_count": 266,
   "metadata": {},
   "outputs": [
    {
     "data": {
      "text/plain": [
       "Latitude   Longitude  \n",
       "332739N    1114342W       17\n",
       "334118N    0112457W       14\n",
       "61.174445  -149.996389    14\n",
       "32.815556  -117.139444    14\n",
       "61.213611  -149.844444    13\n",
       "                          ..\n",
       "31.151389  -81.391389      1\n",
       "31.151111  -81.388055      1\n",
       "31.15      -97.4           1\n",
       "31.136944  -83.703889      1\n",
       "9.956944   -84.139722      1\n",
       "Length: 28849, dtype: int64"
      ]
     },
     "execution_count": 266,
     "metadata": {},
     "output_type": "execute_result"
    }
   ],
   "source": [
    "av_raw[['Latitude','Longitude']].value_counts()"
   ]
  },
  {
   "cell_type": "code",
   "execution_count": 392,
   "metadata": {},
   "outputs": [
    {
     "name": "stdout",
     "output_type": "stream",
     "text": [
      "       Latitude    Longitude\n",
      "2     36.922223   -81.878056\n",
      "5     42.445277   -70.758333\n",
      "593   30.757778   -88.355555\n",
      "3654  46.041111  -120.849722\n",
      "6202      48.12    -113.8875\n"
     ]
    }
   ],
   "source": [
    "loc_df = av_raw.copy()\n",
    "map_df = loc_df[['Latitude','Longitude']].astype(str)\n",
    "\n",
    "map_data = map_df[~map_df.Latitude.str.contains(\"N\",na=False)]\n",
    "\n",
    "map_data = map_data[~map_data.Latitude.str.contains(\"S\",na=False)]\n",
    "map_data = map_data[~map_data.Longitude.str.contains(\"E\",na=False)]\n",
    "no_na = map_data[map_data != 'nan'].dropna()\n",
    "print(no_na[0:5])\n",
    "#df_filter = no_na.filter(regex=\"\\d+\\.\\d+\")\n",
    "\n",
    "\n",
    "#map_data.loc[map_data[map_data != 'nan'].dropna().filter(regex=\"\\d+\\.\\d+\")]\n",
    "#map_data = loc_df.filter(regex=\"\\d+\\.\\d+\")\n",
    "#map_data[['Latitude','Longitude']].fillna(0)\n",
    "\n"
   ]
  },
  {
   "cell_type": "code",
   "execution_count": 285,
   "metadata": {},
   "outputs": [
    {
     "name": "stdout",
     "output_type": "stream",
     "text": [
      "<class 'pandas.core.frame.DataFrame'>\n",
      "RangeIndex: 87282 entries, 0 to 87281\n",
      "Data columns (total 31 columns):\n",
      " #   Column                  Non-Null Count  Dtype  \n",
      "---  ------                  --------------  -----  \n",
      " 0   Event.Id                87282 non-null  object \n",
      " 1   Investigation.Type      87282 non-null  object \n",
      " 2   Accident.Number         87282 non-null  object \n",
      " 3   Event.Date              87282 non-null  object \n",
      " 4   Location                87230 non-null  object \n",
      " 5   Country                 87056 non-null  object \n",
      " 6   Latitude                33073 non-null  object \n",
      " 7   Longitude               33064 non-null  object \n",
      " 8   Airport.Code            49322 non-null  object \n",
      " 9   Airport.Name            51955 non-null  object \n",
      " 10  Injury.Severity         86399 non-null  object \n",
      " 11  Aircraft.damage         84272 non-null  object \n",
      " 12  Aircraft.Category       30783 non-null  object \n",
      " 13  Registration.Number     85965 non-null  object \n",
      " 14  Make                    87219 non-null  object \n",
      " 15  Model                   87190 non-null  object \n",
      " 16  Amateur.Built           87180 non-null  object \n",
      " 17  Number.of.Engines       81533 non-null  float64\n",
      " 18  Engine.Type             81391 non-null  object \n",
      " 19  FAR.Description         30458 non-null  object \n",
      " 20  Schedule                12330 non-null  object \n",
      " 21  Purpose.of.flight       81493 non-null  object \n",
      " 22  Air.carrier             15971 non-null  object \n",
      " 23  Total.Fatal.Injuries    75881 non-null  float64\n",
      " 24  Total.Serious.Injuries  74772 non-null  float64\n",
      " 25  Total.Minor.Injuries    75349 non-null  float64\n",
      " 26  Total.Uninjured         81370 non-null  float64\n",
      " 27  Weather.Condition       83304 non-null  object \n",
      " 28  Broad.phase.of.flight   61724 non-null  object \n",
      " 29  Report.Status           82070 non-null  object \n",
      " 30  Publication.Date        73629 non-null  object \n",
      "dtypes: float64(5), object(26)\n",
      "memory usage: 20.6+ MB\n"
     ]
    }
   ],
   "source": [
    "av_raw.info()"
   ]
  },
  {
   "cell_type": "markdown",
   "metadata": {},
   "source": [
    "# Data preprocessing"
   ]
  },
  {
   "cell_type": "code",
   "execution_count": 211,
   "metadata": {},
   "outputs": [
    {
     "data": {
      "text/plain": [
       "Event.Id                  False\n",
       "Investigation.Type        False\n",
       "Accident.Number           False\n",
       "Event.Date                False\n",
       "Location                   True\n",
       "Country                    True\n",
       "Latitude                   True\n",
       "Longitude                  True\n",
       "Airport.Code               True\n",
       "Airport.Name               True\n",
       "Injury.Severity            True\n",
       "Aircraft.damage            True\n",
       "Aircraft.Category          True\n",
       "Registration.Number        True\n",
       "Make                       True\n",
       "Model                      True\n",
       "Amateur.Built              True\n",
       "Number.of.Engines          True\n",
       "Engine.Type                True\n",
       "FAR.Description            True\n",
       "Schedule                   True\n",
       "Purpose.of.flight          True\n",
       "Air.carrier                True\n",
       "Total.Fatal.Injuries       True\n",
       "Total.Serious.Injuries     True\n",
       "Total.Minor.Injuries       True\n",
       "Total.Uninjured            True\n",
       "Weather.Condition          True\n",
       "Broad.phase.of.flight      True\n",
       "Report.Status              True\n",
       "Publication.Date           True\n",
       "dtype: bool"
      ]
     },
     "execution_count": 211,
     "metadata": {},
     "output_type": "execute_result"
    }
   ],
   "source": [
    "# Get all columns with empty values\n",
    "av_raw.isna().any()"
   ]
  },
  {
   "cell_type": "code",
   "execution_count": 245,
   "metadata": {},
   "outputs": [
    {
     "name": "stdout",
     "output_type": "stream",
     "text": [
      "Empty lat : 54209\n",
      "Empty Location : 52\n",
      "Empty airport codes: 37960\n",
      "Empty airport names : 35327\n",
      "Empty aircraft categories : 56499\n",
      "Empty aircraft engine : 5749\n"
     ]
    }
   ],
   "source": [
    "print(f\"Empty lat : {av_raw['Latitude'].isna().sum()}\")\n",
    "print(f\"Empty Location : {av_raw['Location'].isna().sum()}\")\n",
    "print(f\"Empty airport codes: {av_raw['Airport.Code'].isna().sum()}\")\n",
    "print(f\"Empty airport names : {av_raw['Airport.Name'].isna().sum()}\")\n",
    "print(f\"Empty aircraft categories : {av_raw['Aircraft.Category'].isna().sum()}\")\n",
    "print(f\"Empty aircraft engine : {av_raw['Number.of.Engines'].isna().sum()}\")"
   ]
  },
  {
   "cell_type": "code",
   "execution_count": 246,
   "metadata": {},
   "outputs": [
    {
     "name": "stdout",
     "output_type": "stream",
     "text": [
      "(54209, 5)\n"
     ]
    }
   ],
   "source": [
    "import geopandas as gp \n",
    "from geopy.geocoders import Nominatim\n",
    "geolocator = Nominatim(user_agent=\"av_app\")\n",
    "\n",
    "#geoencode locations\n",
    "av_raw['Location'].fillna(\"Alaska\",inplace=True)\n",
    "av_raw['Country'].fillna(\"Alaska\",inplace=True)\n",
    "\n",
    "empty_lat_lon = av_raw.loc[av_raw['Latitude'].isna(),['Event.Id','Location','Latitude','Country','Longitude']]\n",
    "print(empty_lat_lon.shape)"
   ]
  },
  {
   "cell_type": "code",
   "execution_count": null,
   "metadata": {},
   "outputs": [],
   "source": [
    "\n",
    "# geocode the location column \n",
    "#create empty dataframe to store the geocoded data\n",
    "from socket import timeout\n",
    "from geopy.extra.rate_limiter import RateLimiter\n",
    "from tqdm import tqdm\n",
    "tqdm.pandas()\n",
    "geocode = RateLimiter(geolocator.geocode, min_delay_seconds=1)\n",
    "\n",
    "encode = pd.DataFrame(columns=['Event.Id','Location','Latitude','Longitude'])\n",
    "encode['Event.Id'] = empty_lat_lon['Event.Id']\n",
    "encode['Location'] = empty_lat_lon['Location'].progress_apply(geocode)\n",
    "# extract lat and lon from geocoded locations\n",
    "encode['Latitude'] = encode['Location'].apply(lambda x: x.latitude if x != None else None)\n",
    "encode['Longitude'] = encode['Location'].apply(lambda x: x.longitude if x != None else None)\n",
    "\n",
    "print(encode.head())\n",
    "# join encode with av_raw on id \n",
    "av_raw_merged = av_raw.merge(encode,on='Event.Id',how=\"left\")\n",
    "\n",
    "av_raw_merged['Longitude_y'] = av_raw_merged['Longitude_y'].fillna(av_raw_merged['Longitude_x'])\n",
    "av_raw_merged['Latitude_y'] = av_raw_merged['Latitude_y'].fillna(av_raw_merged['Latitude_x'])\n",
    "\n",
    "av_raw_merged['Location_y'] = av_raw_merged['Location_y'].fillna(av_raw_merged['Location_x'])\n",
    "\n",
    "av_raw_merged.drop([\"Longitude_x\"], inplace=True, axis=1)\n",
    "av_raw_merged.drop([\"Latitude_x\"], inplace=True, axis=1)\n",
    "av_raw_merged.drop([\"Location_x\"], inplace=True, axis=1)\n",
    "av_raw_merged.rename(columns={'Longitude_y':'Longitude','Latitude_y':'Latitude','Location_y':'Location'},inplace=True)\n",
    "\n",
    "print(av_raw_merged.info())\n",
    "av_raw = av_raw_merged\n"
   ]
  },
  {
   "cell_type": "code",
   "execution_count": 253,
   "metadata": {},
   "outputs": [
    {
     "name": "stdout",
     "output_type": "stream",
     "text": [
      "Probable Cause    61754\n",
      "Foreign            1999\n",
      "Factual             145\n",
      "Preliminary          15\n",
      "Name: Report.Status, dtype: int64\n",
      "<br /><br />                                                                                                                                                                                                                                                                                                                                                                                                                                                                                                                                                              163\n",
      "The pilot's failure to maintain directional control during the landing roll.                                                                                                                                                                                                                                                                                                                                                                                                                                                                                               53\n",
      "The pilot's failure to maintain directional control during landing.                                                                                                                                                                                                                                                                                                                                                                                                                                                                                                        40\n",
      "A loss of engine power for undetermined reasons.                                                                                                                                                                                                                                                                                                                                                                                                                                                                                                                           38\n",
      "A total loss of engine power for undetermined reasons.                                                                                                                                                                                                                                                                                                                                                                                                                                                                                                                     35\n",
      "                                                                                                                                                                                                                                                                                                                                                                                                                                                                                                                                                                         ... \n",
      "The failure of ground personnel to ensure the helicopter was serviced with the proper fuel. Contributing to the accident was the pilot's failure to monitor the fueling process.                                                                                                                                                                                                                                                                                                                                                                                            1\n",
      "The pilot's excessive touchdown speed, which resulted in a bounced landing. Contributing to the accident was the pilot's lack of recent experience in flying light airplanes.                                                                                                                                                                                                                                                                                                                                                                                               1\n",
      "A hearback/readback error on the part of the tower traffic management coordinator, who did not understand the request being made by the approach control area supervisor and then communicated that misunderstanding to the local controllers. Contributing to the incident was the lack of standard coordination procedures between the tower and approach control for temporary runway changes and the accepted practice of operations supervisors being distracted by non-operational duties while responsible for tower operations and interfacility coordination.      1\n",
      "The failure of a tail rotor driveshaft coupling due to fatigue. \\r                                                                                                                                                                                                                                                                                                                                                                                                                                                                                                          1\n",
      "The pilots failure to maintain adequate clearance from a parked helicopter while hovering to reposition for takeoff. \\r                                                                                                                                                                                                                                                                                                                                                                                                                                                    1\n",
      "Name: Report.Status, Length: 15109, dtype: int64\n",
      "Investigation.Type        False\n",
      "Event.Date                False\n",
      "Location                  False\n",
      "Country                   False\n",
      "Latitude                   True\n",
      "Longitude                  True\n",
      "Airport.Code               True\n",
      "Airport.Name               True\n",
      "Aircraft.damage            True\n",
      "Aircraft.Category         False\n",
      "Make                       True\n",
      "Model                      True\n",
      "Amateur.Built              True\n",
      "Number.of.Engines          True\n",
      "Engine.Type                True\n",
      "FAR.Description           False\n",
      "Purpose.of.flight          True\n",
      "Air.carrier                True\n",
      "Total.Fatal.Injuries       True\n",
      "Total.Serious.Injuries     True\n",
      "Total.Minor.Injuries       True\n",
      "Total.Uninjured            True\n",
      "Weather.Condition          True\n",
      "Broad.phase.of.flight      True\n",
      "Report.Status              True\n",
      "Publication.Date           True\n",
      "year                      False\n",
      "month                     False\n",
      "dtype: bool\n"
     ]
    }
   ],
   "source": [
    "import datetime\n",
    "#remove Event.ID\n",
    "av_raw.drop(columns=[\"Event.Id\",\"Accident.Number\",\"Registration.Number\",\"Schedule\",\"Injury.Severity\"],inplace=True,errors='ignore');\n",
    "\n",
    "#TODO combine aircraft make and model into one feature and encode\n",
    "\n",
    "av_raw['FAR.Description'].fillna(value='unknown',inplace=True)\n",
    "\n",
    "# TODO Fill NA Lat/Lon with corresponding locations \n",
    "\n",
    "# Fill empty aircraft category with 'unknown'\n",
    "av_raw['Aircraft.Category'].fillna(value=\"unknown\",inplace=True)\n",
    "\n",
    "#group events by year\n",
    "av_raw['year'] = pd.DatetimeIndex(av_raw['Event.Date']).year\n",
    "av_raw['month'] = pd.DatetimeIndex(av_raw['Event.Date']).month\n",
    "# make year of type numeric\n",
    "av_raw.head()\n",
    "\n",
    "av_raw.sort_values(by=['year'])\n",
    "\n",
    "# get the report status after 2020\n",
    "reps_08 = av_raw[av_raw['year'] < 2008]['Report.Status']\n",
    "\n",
    "reps_nlp = av_raw[av_raw['year'] > 2008]['Report.Status']\n",
    "\n",
    "# Report status before 2009 do not have detailed information on cause of accident to analyze - reports after 2009 are more interesting to analyze using NLP methods to group accidents by cause\n",
    "print(reps_08.value_counts())\n",
    "print(reps_nlp.value_counts())\n",
    "\n",
    "print(av_raw.isna().any())"
   ]
  },
  {
   "cell_type": "code",
   "execution_count": null,
   "metadata": {},
   "outputs": [],
   "source": [
    "# Load the example flights dataset and convert to long-form\n",
    "\n",
    "accidents = av_raw.pivot(\"month\", \"year\", \"Total.Fatal.Injuries\")\n",
    "\n",
    "# Draw a heatmap with the numeric values in each cell\n",
    "f, ax = plt.subplots(figsize=(9, 6))\n",
    "sns.heatmap(av_raw, annot=True, fmt=\"d\", linewidths=.5, ax=ax)"
   ]
  },
  {
   "cell_type": "markdown",
   "metadata": {},
   "source": [
    "# Analysis\n",
    "# Questions\n",
    "- What is the phase of flight where most accidents happened\n",
    "- What is the model with the most accidents\n",
    "- What is the airport with the most accidents\n",
    "- What weather conditions occured during most accidents?\n",
    "\n",
    "# Ideas\n",
    "- Do NLP analysis on report status\n",
    "- Create a map with lat/lon points of accidents"
   ]
  },
  {
   "cell_type": "code",
   "execution_count": null,
   "metadata": {},
   "outputs": [],
   "source": [
    "# Create map with "
   ]
  },
  {
   "cell_type": "markdown",
   "metadata": {},
   "source": [
    "# What is the phase of flight where most accidents happened?"
   ]
  },
  {
   "cell_type": "code",
   "execution_count": 263,
   "metadata": {},
   "outputs": [
    {
     "name": "stdout",
     "output_type": "stream",
     "text": [
      "Landing        15428\n",
      "Takeoff        12493\n",
      "Cruise         10269\n",
      "Maneuvering     8144\n",
      "Approach        6546\n",
      "Climb           2034\n",
      "Taxi            1958\n",
      "Descent         1887\n",
      "Go-around       1353\n",
      "Standing         945\n",
      "Unknown          548\n",
      "Other            119\n",
      "Name: Broad.phase.of.flight, dtype: int64\n"
     ]
    },
    {
     "ename": "ValueError",
     "evalue": "Could not interpret value `year` for parameter `x`",
     "output_type": "error",
     "traceback": [
      "\u001b[0;31m---------------------------------------------------------------------------\u001b[0m",
      "\u001b[0;31mValueError\u001b[0m                                Traceback (most recent call last)",
      "\u001b[1;32m/Users/denis/Development/ML/aviation_acc/eda.ipynb Zelle 14\u001b[0m in \u001b[0;36m<cell line: 7>\u001b[0;34m()\u001b[0m\n\u001b[1;32m      <a href='vscode-notebook-cell:/Users/denis/Development/ML/aviation_acc/eda.ipynb#X36sZmlsZQ%3D%3D?line=4'>5</a>\u001b[0m \u001b[39m# make plot a little bigger\u001b[39;00m\n\u001b[1;32m      <a href='vscode-notebook-cell:/Users/denis/Development/ML/aviation_acc/eda.ipynb#X36sZmlsZQ%3D%3D?line=5'>6</a>\u001b[0m plt\u001b[39m.\u001b[39mfigure(figsize\u001b[39m=\u001b[39m(\u001b[39m20\u001b[39m,\u001b[39m10\u001b[39m))\n\u001b[0;32m----> <a href='vscode-notebook-cell:/Users/denis/Development/ML/aviation_acc/eda.ipynb#X36sZmlsZQ%3D%3D?line=6'>7</a>\u001b[0m sns\u001b[39m.\u001b[39;49mhistplot(av_raw,x\u001b[39m=\u001b[39;49m\u001b[39m'\u001b[39;49m\u001b[39myear\u001b[39;49m\u001b[39m'\u001b[39;49m,y\u001b[39m=\u001b[39;49m\u001b[39m'\u001b[39;49m\u001b[39mBroad.phase.of.flight\u001b[39;49m\u001b[39m'\u001b[39;49m,bins\u001b[39m=\u001b[39;49m\u001b[39m30\u001b[39;49m, discrete\u001b[39m=\u001b[39;49m(\u001b[39mTrue\u001b[39;49;00m, \u001b[39mTrue\u001b[39;49;00m), log_scale\u001b[39m=\u001b[39;49m(\u001b[39mFalse\u001b[39;49;00m, \u001b[39mFalse\u001b[39;49;00m),)\n",
      "File \u001b[0;32m~/opt/miniconda3/envs/python3_8/lib/python3.8/site-packages/seaborn/distributions.py:1430\u001b[0m, in \u001b[0;36mhistplot\u001b[0;34m(data, x, y, hue, weights, stat, bins, binwidth, binrange, discrete, cumulative, common_bins, common_norm, multiple, element, fill, shrink, kde, kde_kws, line_kws, thresh, pthresh, pmax, cbar, cbar_ax, cbar_kws, palette, hue_order, hue_norm, color, log_scale, legend, ax, **kwargs)\u001b[0m\n\u001b[1;32m   1409\u001b[0m \u001b[39mdef\u001b[39;00m \u001b[39mhistplot\u001b[39m(\n\u001b[1;32m   1410\u001b[0m     data\u001b[39m=\u001b[39m\u001b[39mNone\u001b[39;00m, \u001b[39m*\u001b[39m,\n\u001b[1;32m   1411\u001b[0m     \u001b[39m# Vector variables\u001b[39;00m\n\u001b[0;32m   (...)\u001b[0m\n\u001b[1;32m   1427\u001b[0m     \u001b[39m*\u001b[39m\u001b[39m*\u001b[39mkwargs,\n\u001b[1;32m   1428\u001b[0m ):\n\u001b[0;32m-> 1430\u001b[0m     p \u001b[39m=\u001b[39m _DistributionPlotter(\n\u001b[1;32m   1431\u001b[0m         data\u001b[39m=\u001b[39;49mdata,\n\u001b[1;32m   1432\u001b[0m         variables\u001b[39m=\u001b[39;49m_DistributionPlotter\u001b[39m.\u001b[39;49mget_semantics(\u001b[39mlocals\u001b[39;49m())\n\u001b[1;32m   1433\u001b[0m     )\n\u001b[1;32m   1435\u001b[0m     p\u001b[39m.\u001b[39mmap_hue(palette\u001b[39m=\u001b[39mpalette, order\u001b[39m=\u001b[39mhue_order, norm\u001b[39m=\u001b[39mhue_norm)\n\u001b[1;32m   1437\u001b[0m     \u001b[39mif\u001b[39;00m ax \u001b[39mis\u001b[39;00m \u001b[39mNone\u001b[39;00m:\n",
      "File \u001b[0;32m~/opt/miniconda3/envs/python3_8/lib/python3.8/site-packages/seaborn/distributions.py:111\u001b[0m, in \u001b[0;36m_DistributionPlotter.__init__\u001b[0;34m(self, data, variables)\u001b[0m\n\u001b[1;32m    105\u001b[0m \u001b[39mdef\u001b[39;00m \u001b[39m__init__\u001b[39m(\n\u001b[1;32m    106\u001b[0m     \u001b[39mself\u001b[39m,\n\u001b[1;32m    107\u001b[0m     data\u001b[39m=\u001b[39m\u001b[39mNone\u001b[39;00m,\n\u001b[1;32m    108\u001b[0m     variables\u001b[39m=\u001b[39m{},\n\u001b[1;32m    109\u001b[0m ):\n\u001b[0;32m--> 111\u001b[0m     \u001b[39msuper\u001b[39;49m()\u001b[39m.\u001b[39;49m\u001b[39m__init__\u001b[39;49m(data\u001b[39m=\u001b[39;49mdata, variables\u001b[39m=\u001b[39;49mvariables)\n",
      "File \u001b[0;32m~/opt/miniconda3/envs/python3_8/lib/python3.8/site-packages/seaborn/_core.py:605\u001b[0m, in \u001b[0;36mVectorPlotter.__init__\u001b[0;34m(self, data, variables)\u001b[0m\n\u001b[1;32m    603\u001b[0m \u001b[39mdef\u001b[39;00m \u001b[39m__init__\u001b[39m(\u001b[39mself\u001b[39m, data\u001b[39m=\u001b[39m\u001b[39mNone\u001b[39;00m, variables\u001b[39m=\u001b[39m{}):\n\u001b[0;32m--> 605\u001b[0m     \u001b[39mself\u001b[39;49m\u001b[39m.\u001b[39;49massign_variables(data, variables)\n\u001b[1;32m    607\u001b[0m     \u001b[39mfor\u001b[39;00m var, \u001b[39mcls\u001b[39m \u001b[39min\u001b[39;00m \u001b[39mself\u001b[39m\u001b[39m.\u001b[39m_semantic_mappings\u001b[39m.\u001b[39mitems():\n\u001b[1;32m    608\u001b[0m \n\u001b[1;32m    609\u001b[0m         \u001b[39m# Create the mapping function\u001b[39;00m\n\u001b[1;32m    610\u001b[0m         map_func \u001b[39m=\u001b[39m partial(\u001b[39mcls\u001b[39m\u001b[39m.\u001b[39mmap, plotter\u001b[39m=\u001b[39m\u001b[39mself\u001b[39m)\n",
      "File \u001b[0;32m~/opt/miniconda3/envs/python3_8/lib/python3.8/site-packages/seaborn/_core.py:668\u001b[0m, in \u001b[0;36mVectorPlotter.assign_variables\u001b[0;34m(self, data, variables)\u001b[0m\n\u001b[1;32m    666\u001b[0m \u001b[39melse\u001b[39;00m:\n\u001b[1;32m    667\u001b[0m     \u001b[39mself\u001b[39m\u001b[39m.\u001b[39minput_format \u001b[39m=\u001b[39m \u001b[39m\"\u001b[39m\u001b[39mlong\u001b[39m\u001b[39m\"\u001b[39m\n\u001b[0;32m--> 668\u001b[0m     plot_data, variables \u001b[39m=\u001b[39m \u001b[39mself\u001b[39;49m\u001b[39m.\u001b[39;49m_assign_variables_longform(\n\u001b[1;32m    669\u001b[0m         data, \u001b[39m*\u001b[39;49m\u001b[39m*\u001b[39;49mvariables,\n\u001b[1;32m    670\u001b[0m     )\n\u001b[1;32m    672\u001b[0m \u001b[39mself\u001b[39m\u001b[39m.\u001b[39mplot_data \u001b[39m=\u001b[39m plot_data\n\u001b[1;32m    673\u001b[0m \u001b[39mself\u001b[39m\u001b[39m.\u001b[39mvariables \u001b[39m=\u001b[39m variables\n",
      "File \u001b[0;32m~/opt/miniconda3/envs/python3_8/lib/python3.8/site-packages/seaborn/_core.py:903\u001b[0m, in \u001b[0;36mVectorPlotter._assign_variables_longform\u001b[0;34m(self, data, **kwargs)\u001b[0m\n\u001b[1;32m    898\u001b[0m \u001b[39melif\u001b[39;00m \u001b[39misinstance\u001b[39m(val, (\u001b[39mstr\u001b[39m, \u001b[39mbytes\u001b[39m)):\n\u001b[1;32m    899\u001b[0m \n\u001b[1;32m    900\u001b[0m     \u001b[39m# This looks like a column name but we don't know what it means!\u001b[39;00m\n\u001b[1;32m    902\u001b[0m     err \u001b[39m=\u001b[39m \u001b[39mf\u001b[39m\u001b[39m\"\u001b[39m\u001b[39mCould not interpret value `\u001b[39m\u001b[39m{\u001b[39;00mval\u001b[39m}\u001b[39;00m\u001b[39m` for parameter `\u001b[39m\u001b[39m{\u001b[39;00mkey\u001b[39m}\u001b[39;00m\u001b[39m`\u001b[39m\u001b[39m\"\u001b[39m\n\u001b[0;32m--> 903\u001b[0m     \u001b[39mraise\u001b[39;00m \u001b[39mValueError\u001b[39;00m(err)\n\u001b[1;32m    905\u001b[0m \u001b[39melse\u001b[39;00m:\n\u001b[1;32m    906\u001b[0m \n\u001b[1;32m    907\u001b[0m     \u001b[39m# Otherwise, assume the value is itself data\u001b[39;00m\n\u001b[1;32m    908\u001b[0m \n\u001b[1;32m    909\u001b[0m     \u001b[39m# Raise when data object is present and a vector can't matched\u001b[39;00m\n\u001b[1;32m    910\u001b[0m     \u001b[39mif\u001b[39;00m \u001b[39misinstance\u001b[39m(data, pd\u001b[39m.\u001b[39mDataFrame) \u001b[39mand\u001b[39;00m \u001b[39mnot\u001b[39;00m \u001b[39misinstance\u001b[39m(val, pd\u001b[39m.\u001b[39mSeries):\n",
      "\u001b[0;31mValueError\u001b[0m: Could not interpret value `year` for parameter `x`"
     ]
    },
    {
     "data": {
      "text/plain": [
       "<Figure size 1440x720 with 0 Axes>"
      ]
     },
     "metadata": {},
     "output_type": "display_data"
    }
   ],
   "source": [
    "\n",
    "# Analyse phase of flight\n",
    "\n",
    "print(av_raw['Broad.phase.of.flight'].value_counts())\n",
    "\n",
    "# make plot a little bigger\n",
    "plt.figure(figsize=(20,10))\n",
    "sns.histplot(av_raw,x='year',y='Broad.phase.of.flight',bins=30, discrete=(True, True), log_scale=(False, False),)\n"
   ]
  },
  {
   "cell_type": "code",
   "execution_count": 53,
   "metadata": {},
   "outputs": [
    {
     "data": {
      "text/plain": [
       "Non-Fatal     66561\n",
       "Fatal(1)       6167\n",
       "Fatal          4959\n",
       "Fatal(2)       3711\n",
       "Incident       2219\n",
       "              ...  \n",
       "Fatal(228)        1\n",
       "Fatal(229)        1\n",
       "Fatal(80)         1\n",
       "Fatal(217)        1\n",
       "Fatal(72)         1\n",
       "Name: Injury.Severity, Length: 107, dtype: int64"
      ]
     },
     "execution_count": 53,
     "metadata": {},
     "output_type": "execute_result"
    }
   ],
   "source": [
    "av_raw['Injury.Severity'].value_counts()"
   ]
  },
  {
   "cell_type": "markdown",
   "metadata": {},
   "source": [
    "# NLP on report status"
   ]
  },
  {
   "cell_type": "code",
   "execution_count": 26,
   "metadata": {},
   "outputs": [
    {
     "data": {
      "text/plain": [
       "Probable Cause                                                                                                                                                       61754\n",
       "Foreign                                                                                                                                                               1999\n",
       "<br /><br />                                                                                                                                                           167\n",
       "Factual                                                                                                                                                                145\n",
       "The pilot's failure to maintain directional control during the landing roll.                                                                                            56\n",
       "                                                                                                                                                                     ...  \n",
       "The certified flight instructors delayed remedial action. Contributing to the accident was the student pilot's failure to maintain control prior to the landing.        1\n",
       "The pilot's excessive use of brakes during the landing roll before the tailwheel had made sustained contact with the runway.                                             1\n",
       "The pilot's misjudgment of the airplane's distance from known transmission lines.                                                                                        1\n",
       "The pilot was unable to see the other aircraft to avoid a collision.                                                                                                     1\n",
       "The pilots failure to maintain adequate clearance from a parked helicopter while hovering to reposition for takeoff. \\r                                                 1\n",
       "Name: Report.Status, Length: 16667, dtype: int64"
      ]
     },
     "execution_count": 26,
     "metadata": {},
     "output_type": "execute_result"
    }
   ],
   "source": [
    "av_raw['Report.Status'].value_counts()"
   ]
  },
  {
   "cell_type": "code",
   "execution_count": null,
   "metadata": {},
   "outputs": [],
   "source": [
    "\n"
   ]
  },
  {
   "cell_type": "markdown",
   "metadata": {},
   "source": [
    "# Unsupervised learning\n",
    "- Use clustering algorithms to explore dataset and find interesting patterns of \"accident groups\" => then analyze each cluster seperately\n",
    "- Anomaly detection"
   ]
  },
  {
   "cell_type": "code",
   "execution_count": 50,
   "metadata": {},
   "outputs": [
    {
     "ename": "KeyError",
     "evalue": "\"None of [Index(['I'], dtype='object')] are in the [columns]\"",
     "output_type": "error",
     "traceback": [
      "\u001b[0;31m---------------------------------------------------------------------------\u001b[0m",
      "\u001b[0;31mKeyError\u001b[0m                                  Traceback (most recent call last)",
      "\u001b[1;32m/Users/denis/Development/ML/aviation_acc/eda.ipynb Zelle 9\u001b[0m in \u001b[0;36m<cell line: 4>\u001b[0;34m()\u001b[0m\n\u001b[1;32m      <a href='vscode-notebook-cell:/Users/denis/Development/ML/aviation_acc/eda.ipynb#X15sZmlsZQ%3D%3D?line=1'>2</a>\u001b[0m categorical_cols \u001b[39m=\u001b[39m av_raw\u001b[39m.\u001b[39mselect_dtypes(exclude\u001b[39m=\u001b[39m[\u001b[39m'\u001b[39m\u001b[39mnumber\u001b[39m\u001b[39m'\u001b[39m])\u001b[39m.\u001b[39mcolumns\n\u001b[1;32m      <a href='vscode-notebook-cell:/Users/denis/Development/ML/aviation_acc/eda.ipynb#X15sZmlsZQ%3D%3D?line=3'>4</a>\u001b[0m \u001b[39mfor\u001b[39;00m col \u001b[39min\u001b[39;00m categorical_cols[\u001b[39m1\u001b[39m]:\n\u001b[0;32m----> <a href='vscode-notebook-cell:/Users/denis/Development/ML/aviation_acc/eda.ipynb#X15sZmlsZQ%3D%3D?line=4'>5</a>\u001b[0m     \u001b[39mprint\u001b[39m(pd\u001b[39m.\u001b[39;49mget_dummies(data\u001b[39m=\u001b[39;49mav_raw[\u001b[39m5\u001b[39;49m:],columns\u001b[39m=\u001b[39;49m[col]))\n",
      "File \u001b[0;32m~/opt/miniconda3/envs/python3_8/lib/python3.8/site-packages/pandas/core/reshape/reshape.py:931\u001b[0m, in \u001b[0;36mget_dummies\u001b[0;34m(data, prefix, prefix_sep, dummy_na, columns, sparse, drop_first, dtype)\u001b[0m\n\u001b[1;32m    929\u001b[0m     \u001b[39mraise\u001b[39;00m \u001b[39mTypeError\u001b[39;00m(\u001b[39m\"\u001b[39m\u001b[39mInput must be a list-like for parameter `columns`\u001b[39m\u001b[39m\"\u001b[39m)\n\u001b[1;32m    930\u001b[0m \u001b[39melse\u001b[39;00m:\n\u001b[0;32m--> 931\u001b[0m     data_to_encode \u001b[39m=\u001b[39m data[columns]\n\u001b[1;32m    933\u001b[0m \u001b[39m# validate prefixes and separator to avoid silently dropping cols\u001b[39;00m\n\u001b[1;32m    934\u001b[0m \u001b[39mdef\u001b[39;00m \u001b[39mcheck_len\u001b[39m(item, name):\n",
      "File \u001b[0;32m~/opt/miniconda3/envs/python3_8/lib/python3.8/site-packages/pandas/core/frame.py:3511\u001b[0m, in \u001b[0;36mDataFrame.__getitem__\u001b[0;34m(self, key)\u001b[0m\n\u001b[1;32m   3509\u001b[0m     \u001b[39mif\u001b[39;00m is_iterator(key):\n\u001b[1;32m   3510\u001b[0m         key \u001b[39m=\u001b[39m \u001b[39mlist\u001b[39m(key)\n\u001b[0;32m-> 3511\u001b[0m     indexer \u001b[39m=\u001b[39m \u001b[39mself\u001b[39;49m\u001b[39m.\u001b[39;49mcolumns\u001b[39m.\u001b[39;49m_get_indexer_strict(key, \u001b[39m\"\u001b[39;49m\u001b[39mcolumns\u001b[39;49m\u001b[39m\"\u001b[39;49m)[\u001b[39m1\u001b[39m]\n\u001b[1;32m   3513\u001b[0m \u001b[39m# take() does not accept boolean indexers\u001b[39;00m\n\u001b[1;32m   3514\u001b[0m \u001b[39mif\u001b[39;00m \u001b[39mgetattr\u001b[39m(indexer, \u001b[39m\"\u001b[39m\u001b[39mdtype\u001b[39m\u001b[39m\"\u001b[39m, \u001b[39mNone\u001b[39;00m) \u001b[39m==\u001b[39m \u001b[39mbool\u001b[39m:\n",
      "File \u001b[0;32m~/opt/miniconda3/envs/python3_8/lib/python3.8/site-packages/pandas/core/indexes/base.py:5782\u001b[0m, in \u001b[0;36mIndex._get_indexer_strict\u001b[0;34m(self, key, axis_name)\u001b[0m\n\u001b[1;32m   5779\u001b[0m \u001b[39melse\u001b[39;00m:\n\u001b[1;32m   5780\u001b[0m     keyarr, indexer, new_indexer \u001b[39m=\u001b[39m \u001b[39mself\u001b[39m\u001b[39m.\u001b[39m_reindex_non_unique(keyarr)\n\u001b[0;32m-> 5782\u001b[0m \u001b[39mself\u001b[39;49m\u001b[39m.\u001b[39;49m_raise_if_missing(keyarr, indexer, axis_name)\n\u001b[1;32m   5784\u001b[0m keyarr \u001b[39m=\u001b[39m \u001b[39mself\u001b[39m\u001b[39m.\u001b[39mtake(indexer)\n\u001b[1;32m   5785\u001b[0m \u001b[39mif\u001b[39;00m \u001b[39misinstance\u001b[39m(key, Index):\n\u001b[1;32m   5786\u001b[0m     \u001b[39m# GH 42790 - Preserve name from an Index\u001b[39;00m\n",
      "File \u001b[0;32m~/opt/miniconda3/envs/python3_8/lib/python3.8/site-packages/pandas/core/indexes/base.py:5842\u001b[0m, in \u001b[0;36mIndex._raise_if_missing\u001b[0;34m(self, key, indexer, axis_name)\u001b[0m\n\u001b[1;32m   5840\u001b[0m     \u001b[39mif\u001b[39;00m use_interval_msg:\n\u001b[1;32m   5841\u001b[0m         key \u001b[39m=\u001b[39m \u001b[39mlist\u001b[39m(key)\n\u001b[0;32m-> 5842\u001b[0m     \u001b[39mraise\u001b[39;00m \u001b[39mKeyError\u001b[39;00m(\u001b[39mf\u001b[39m\u001b[39m\"\u001b[39m\u001b[39mNone of [\u001b[39m\u001b[39m{\u001b[39;00mkey\u001b[39m}\u001b[39;00m\u001b[39m] are in the [\u001b[39m\u001b[39m{\u001b[39;00maxis_name\u001b[39m}\u001b[39;00m\u001b[39m]\u001b[39m\u001b[39m\"\u001b[39m)\n\u001b[1;32m   5844\u001b[0m not_found \u001b[39m=\u001b[39m \u001b[39mlist\u001b[39m(ensure_index(key)[missing_mask\u001b[39m.\u001b[39mnonzero()[\u001b[39m0\u001b[39m]]\u001b[39m.\u001b[39munique())\n\u001b[1;32m   5845\u001b[0m \u001b[39mraise\u001b[39;00m \u001b[39mKeyError\u001b[39;00m(\u001b[39mf\u001b[39m\u001b[39m\"\u001b[39m\u001b[39m{\u001b[39;00mnot_found\u001b[39m}\u001b[39;00m\u001b[39m not in index\u001b[39m\u001b[39m\"\u001b[39m)\n",
      "\u001b[0;31mKeyError\u001b[0m: \"None of [Index(['I'], dtype='object')] are in the [columns]\""
     ]
    }
   ],
   "source": [
    "from sklearn.preprocessing import OneHotEncoder\n",
    "# get all non-numerical columns\n",
    "categorical_cols = av_raw.select_dtypes(exclude=['number']).columns\n",
    "enc = OneHotEncoder(handle_unknown='ignore')\n",
    "\n",
    "for col in categorical_cols:\n",
    "    enc.fit(col)\n"
   ]
  },
  {
   "cell_type": "code",
   "execution_count": null,
   "metadata": {},
   "outputs": [],
   "source": [
    "from sklearn.cluster import KMeans\n",
    "k = 5\n",
    "kmeans = KMeans(n_clusters=k, random_state=0)\n",
    "y_pred = kmeans.fit_predict(av_raw)"
   ]
  }
 ],
 "metadata": {
  "kernelspec": {
   "display_name": "Python 3.8.13 ('python3_8')",
   "language": "python",
   "name": "python3"
  },
  "language_info": {
   "codemirror_mode": {
    "name": "ipython",
    "version": 3
   },
   "file_extension": ".py",
   "mimetype": "text/x-python",
   "name": "python",
   "nbconvert_exporter": "python",
   "pygments_lexer": "ipython3",
   "version": "3.8.13"
  },
  "orig_nbformat": 4,
  "vscode": {
   "interpreter": {
    "hash": "96130f890d62795f3ff0bc44216d164e531e776ad5945ae7c227bbbe71add86d"
   }
  }
 },
 "nbformat": 4,
 "nbformat_minor": 2
}
